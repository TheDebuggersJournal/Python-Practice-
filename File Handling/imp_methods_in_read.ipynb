{
 "cells": [
  {
   "cell_type": "markdown",
   "metadata": {},
   "source": [
    "# Important methods:\n",
    "\n",
    "## tell():-\n",
    "1. This method is used to find the current position of a file pointer from the beginning of the file.\n",
    "2. Position starts from 0. It is just like indexing in string."
   ]
  },
  {
   "cell_type": "code",
   "execution_count": 1,
   "metadata": {},
   "outputs": [
    {
     "name": "stdout",
     "output_type": "stream",
     "text": [
      "position of file pointer:  0\n",
      "hell\n",
      "position of file pointer:  4\n",
      "o\n",
      "welcom\n",
      "position of file pointer:  13\n"
     ]
    }
   ],
   "source": [
    "f = open(\"demo1.txt\",mode=\"r\")\n",
    "print(\"position of file pointer: \",f.tell())\n",
    "data1 = f.read(4)\n",
    "print(data1)\n",
    "print(\"position of file pointer: \",f.tell())\n",
    "data2 = f.read(8)\n",
    "print(data2)\n",
    "print(\"position of file pointer: \", f.tell())\n",
    "f.close()\n"
   ]
  },
  {
   "cell_type": "markdown",
   "metadata": {},
   "source": [
    "## seek() :-\n",
    "\n",
    "1. This method is used to change the position of file pointer.\n",
    "2. Remember, file pointer position is always counted from beginning."
   ]
  },
  {
   "cell_type": "code",
   "execution_count": 2,
   "metadata": {},
   "outputs": [
    {
     "name": "stdout",
     "output_type": "stream",
     "text": [
      "position of file pointer:  0\n",
      "hell\n",
      "position of file file pointer:  4\n",
      "position of file pointer:  0\n",
      "hello\n",
      "we\n",
      "position of file pointer:  9\n"
     ]
    }
   ],
   "source": [
    "f = open(\"demo1.txt\",mode=\"r\")\n",
    "print(\"position of file pointer: \",f.tell())\n",
    "data1 = f.read(4)\n",
    "print(data1)\n",
    "print(\"position of file file pointer: \",f.tell())\n",
    "f.seek(0) #set position of file pointer at 0\n",
    "print(\"position of file pointer: \",f.tell())\n",
    "data2 = f.read(8)\n",
    "print(data2)\n",
    "print(\"position of file pointer: \",f.tell())\n",
    "f.close()\n",
    "\n"
   ]
  },
  {
   "cell_type": "markdown",
   "metadata": {},
   "source": []
  }
 ],
 "metadata": {
  "kernelspec": {
   "display_name": "Python 3",
   "language": "python",
   "name": "python3"
  },
  "language_info": {
   "codemirror_mode": {
    "name": "ipython",
    "version": 3
   },
   "file_extension": ".py",
   "mimetype": "text/x-python",
   "name": "python",
   "nbconvert_exporter": "python",
   "pygments_lexer": "ipython3",
   "version": "3.12.5"
  }
 },
 "nbformat": 4,
 "nbformat_minor": 2
}
