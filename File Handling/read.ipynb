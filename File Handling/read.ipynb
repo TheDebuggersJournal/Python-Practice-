{
 "cells": [
  {
   "cell_type": "markdown",
   "metadata": {},
   "source": [
    "## Function to read all data from text file"
   ]
  },
  {
   "cell_type": "code",
   "execution_count": 1,
   "metadata": {},
   "outputs": [
    {
     "name": "stdout",
     "output_type": "stream",
     "text": [
      "hello\n",
      "welcome to\n",
      "the kiran academy\n",
      "\n"
     ]
    }
   ],
   "source": [
    "f = open(\"demo1.txt\",mode='r')\n",
    "data = f.read()\n",
    "print(data)\n",
    "f.close()"
   ]
  },
  {
   "cell_type": "markdown",
   "metadata": {},
   "source": [
    "### read(size) represents the number of characters to be read in text mode"
   ]
  },
  {
   "cell_type": "code",
   "execution_count": 2,
   "metadata": {},
   "outputs": [
    {
     "name": "stdout",
     "output_type": "stream",
     "text": [
      "hello\n",
      "welc\n",
      "\n",
      "\n"
     ]
    }
   ],
   "source": [
    "f = open('demo1.txt',mode='r')\n",
    "data = f.read(10)\n",
    "print(data)\n",
    "f.close()\n",
    "print(\"\\n\")"
   ]
  },
  {
   "cell_type": "markdown",
   "metadata": {},
   "source": [
    "### readline(): This Function is used to read a single line from a file"
   ]
  },
  {
   "cell_type": "code",
   "execution_count": 4,
   "metadata": {},
   "outputs": [
    {
     "name": "stdout",
     "output_type": "stream",
     "text": [
      "hello\n",
      "\n",
      "hello\n",
      "\n",
      "welcome to\n",
      "\n"
     ]
    }
   ],
   "source": [
    "f = open(\"demo1.txt\",mode='r')\n",
    "data = f.readline()\n",
    "print(data)\n",
    "f.close()\n",
    "\n",
    "f = open(\"demo1.txt\",mode='r')\n",
    "data1 = f.readline()\n",
    "data2 = f.readline()\n",
    "print(data1)\n",
    "print(data2)\n",
    "f.close()"
   ]
  },
  {
   "cell_type": "markdown",
   "metadata": {},
   "source": [
    "Note: Every line of code text file is end with \\n and in print() function value of end attribute is \\n, that's why there is one empty line print\n",
    "in above program\n",
    "One \\n for next line and another for empty line\n",
    "If you want to remove this empty line then remove value of end attribute:\n",
    "#Example-\n"
   ]
  },
  {
   "cell_type": "code",
   "execution_count": 5,
   "metadata": {},
   "outputs": [
    {
     "name": "stdout",
     "output_type": "stream",
     "text": [
      "hello\n",
      "welcome to\n",
      "\n",
      "\n"
     ]
    }
   ],
   "source": [
    "f = open(\"demo1.txt\",mode = \"r\")\n",
    "data1 = f.readline()\n",
    "data2 = f.readline()\n",
    "print(data1,end=\"\")\n",
    "print(data2,end=\"\")\n",
    "f.close()\n",
    "print(\"\\n\")"
   ]
  },
  {
   "cell_type": "code",
   "execution_count": 6,
   "metadata": {},
   "outputs": [
    {
     "name": "stdout",
     "output_type": "stream",
     "text": [
      "hello\n",
      "welcome to\n",
      "the kiran academy\n"
     ]
    }
   ],
   "source": [
    "#readlines()\n",
    "f = open(\"demo1.txt\",mode=\"r\")\n",
    "data1 = f.readlines()\n",
    "for i in data1:\n",
    "    print(i,end=\"\")"
   ]
  },
  {
   "cell_type": "code",
   "execution_count": null,
   "metadata": {},
   "outputs": [],
   "source": []
  }
 ],
 "metadata": {
  "kernelspec": {
   "display_name": "Python 3",
   "language": "python",
   "name": "python3"
  },
  "language_info": {
   "codemirror_mode": {
    "name": "ipython",
    "version": 3
   },
   "file_extension": ".py",
   "mimetype": "text/x-python",
   "name": "python",
   "nbconvert_exporter": "python",
   "pygments_lexer": "ipython3",
   "version": "3.12.5"
  }
 },
 "nbformat": 4,
 "nbformat_minor": 2
}
